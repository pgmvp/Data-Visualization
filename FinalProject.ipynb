{
 "cells": [
  {
   "cell_type": "markdown",
   "metadata": {},
   "source": [
    "In this project I will analyse Hate Crime Data in the US. The data is available at  \n",
    "https://ucr.fbi.gov/hate-crime/2015/tables-and-data-declarations/5tabledatadecpdf and  \n",
    "https://ucr.fbi.gov/hate-crime/2015/tables-and-data-declarations/10tabledatadecpdf  "
   ]
  },
  {
   "cell_type": "code",
   "execution_count": 669,
   "metadata": {},
   "outputs": [],
   "source": [
    "library(ggplot2)\n",
    "library(tidyverse)\n",
    "library(tidyr)\n",
    "library(dplyr, quietly = T)\n",
    "library(ggridges)\n",
    "library(ggrepel)\n",
    "library(ggbeeswarm)\n",
    "library(xlsx)\n",
    "library(ggraph)\n",
    "library(viridis)\n",
    "library(igraph)"
   ]
  },
  {
   "cell_type": "code",
   "execution_count": 670,
   "metadata": {},
   "outputs": [],
   "source": [
    "convert <- function(f){\n",
    "    as.numeric(gsub(\",\", \"\", levels(f)))[f]\n",
    "}"
   ]
  },
  {
   "cell_type": "code",
   "execution_count": 671,
   "metadata": {
    "scrolled": false
   },
   "outputs": [
    {
     "data": {
      "text/html": [
       "<table>\n",
       "<thead><tr><th scope=col>V1</th><th scope=col>V2</th><th scope=col>V3</th><th scope=col>V4</th><th scope=col>V5</th><th scope=col>V6</th><th scope=col>V7</th><th scope=col>V8</th><th scope=col>V9</th><th scope=col>V10</th><th scope=col>V11</th><th scope=col>V12</th><th scope=col>V13</th><th scope=col>V14</th></tr></thead>\n",
       "<tbody>\n",
       "\t<tr><td>Bias motivation                              </td><td>Total\n",
       "offenses                              </td><td>Known offender's race                        </td><td>                                             </td><td>                                             </td><td>                                             </td><td>                                             </td><td>                                             </td><td>                                             </td><td>Known offender's ethnicity1                  </td><td>                                             </td><td>                                             </td><td>                                             </td><td>Unknown\n",
       "offender                            </td></tr>\n",
       "\t<tr><td>                                             </td><td>                                             </td><td>White                                        </td><td>Black or\n",
       "African\n",
       "American                  </td><td>American\n",
       "Indian or\n",
       "Alaska Native           </td><td>Asian                                        </td><td>Native\n",
       "Hawaiian\n",
       "or Other\n",
       "Pacific\n",
       "Islander</td><td>Group\n",
       "of\n",
       "multiple\n",
       "races                   </td><td>Unknown\n",
       "race                                </td><td>Hispanic\n",
       "or\n",
       "Latino                         </td><td>Not\n",
       "Hispanic\n",
       "or\n",
       "Latino                    </td><td>Group of\n",
       "multiple\n",
       "ethnicities              </td><td>Unknown\n",
       "ethnicity                           </td><td>                                             </td></tr>\n",
       "\t<tr><td>Total                                        </td><td>6,885                                        </td><td>2,761                                        </td><td>1,129                                        </td><td>65                                           </td><td>60                                           </td><td>7                                            </td><td>304                                          </td><td>842                                          </td><td>182                                          </td><td>875                                          </td><td>27                                           </td><td>2,158                                        </td><td>1,717                                        </td></tr>\n",
       "\t<tr><td>Single-Bias Incidents                        </td><td>6,837                                        </td><td>2,744                                        </td><td>1,126                                        </td><td>63                                           </td><td>60                                           </td><td>7                                            </td><td>304                                          </td><td>840                                          </td><td>182                                          </td><td>866                                          </td><td>27                                           </td><td>2,151                                        </td><td>1,693                                        </td></tr>\n",
       "\t<tr><td>Race/Ethnicity/Ancestry:                     </td><td>4,029                                        </td><td>1,833                                        </td><td>646                                          </td><td>58                                           </td><td>41                                           </td><td>5                                            </td><td>175                                          </td><td>391                                          </td><td>102                                          </td><td>563                                          </td><td>5                                            </td><td>1,463                                        </td><td>880                                          </td></tr>\n",
       "\t<tr><td>Anti-White                                   </td><td>734                                          </td><td>144                                          </td><td>339                                          </td><td>17                                           </td><td>5                                            </td><td>0                                            </td><td>26                                           </td><td>67                                           </td><td>8                                            </td><td>114                                          </td><td>1                                            </td><td>334                                          </td><td>136                                          </td></tr>\n",
       "</tbody>\n",
       "</table>\n"
      ],
      "text/latex": [
       "\\begin{tabular}{r|llllllllllllll}\n",
       " V1 & V2 & V3 & V4 & V5 & V6 & V7 & V8 & V9 & V10 & V11 & V12 & V13 & V14\\\\\n",
       "\\hline\n",
       "\t Bias motivation                               & Total\n",
       "offenses                               & Known offender's race                         &                                               &                                               &                                               &                                               &                                               &                                               & Known offender's ethnicity1                   &                                               &                                               &                                               & Unknown\n",
       "offender                            \\\\\n",
       "\t                                               &                                               & White                                         & Black or\n",
       "African\n",
       "American                   & American\n",
       "Indian or\n",
       "Alaska Native            & Asian                                         & Native\n",
       "Hawaiian\n",
       "or Other\n",
       "Pacific\n",
       "Islander & Group\n",
       "of\n",
       "multiple\n",
       "races                    & Unknown\n",
       "race                                 & Hispanic\n",
       "or\n",
       "Latino                          & Not\n",
       "Hispanic\n",
       "or\n",
       "Latino                     & Group of\n",
       "multiple\n",
       "ethnicities               & Unknown\n",
       "ethnicity                            &                                              \\\\\n",
       "\t Total                                         & 6,885                                         & 2,761                                         & 1,129                                         & 65                                            & 60                                            & 7                                             & 304                                           & 842                                           & 182                                           & 875                                           & 27                                            & 2,158                                         & 1,717                                        \\\\\n",
       "\t Single-Bias Incidents                         & 6,837                                         & 2,744                                         & 1,126                                         & 63                                            & 60                                            & 7                                             & 304                                           & 840                                           & 182                                           & 866                                           & 27                                            & 2,151                                         & 1,693                                        \\\\\n",
       "\t Race/Ethnicity/Ancestry:                      & 4,029                                         & 1,833                                         & 646                                           & 58                                            & 41                                            & 5                                             & 175                                           & 391                                           & 102                                           & 563                                           & 5                                             & 1,463                                         & 880                                          \\\\\n",
       "\t Anti-White                                    & 734                                           & 144                                           & 339                                           & 17                                            & 5                                             & 0                                             & 26                                            & 67                                            & 8                                             & 114                                           & 1                                             & 334                                           & 136                                          \\\\\n",
       "\\end{tabular}\n"
      ],
      "text/markdown": [
       "\n",
       "V1 | V2 | V3 | V4 | V5 | V6 | V7 | V8 | V9 | V10 | V11 | V12 | V13 | V14 | \n",
       "|---|---|---|---|---|---|\n",
       "| Bias motivation                               | Total\n",
       "offenses                               | Known offender's race                         |                                               |                                               |                                               |                                               |                                               |                                               | Known offender's ethnicity1                   |                                               |                                               |                                               | Unknown\n",
       "offender                             | \n",
       "|                                               |                                               | White                                         | Black or\n",
       "African\n",
       "American                   | American\n",
       "Indian or\n",
       "Alaska Native            | Asian                                         | Native\n",
       "Hawaiian\n",
       "or Other\n",
       "Pacific\n",
       "Islander | Group\n",
       "of\n",
       "multiple\n",
       "races                    | Unknown\n",
       "race                                 | Hispanic\n",
       "or\n",
       "Latino                          | Not\n",
       "Hispanic\n",
       "or\n",
       "Latino                     | Group of\n",
       "multiple\n",
       "ethnicities               | Unknown\n",
       "ethnicity                            |                                               | \n",
       "| Total                                         | 6,885                                         | 2,761                                         | 1,129                                         | 65                                            | 60                                            | 7                                             | 304                                           | 842                                           | 182                                           | 875                                           | 27                                            | 2,158                                         | 1,717                                         | \n",
       "| Single-Bias Incidents                         | 6,837                                         | 2,744                                         | 1,126                                         | 63                                            | 60                                            | 7                                             | 304                                           | 840                                           | 182                                           | 866                                           | 27                                            | 2,151                                         | 1,693                                         | \n",
       "| Race/Ethnicity/Ancestry:                      | 4,029                                         | 1,833                                         | 646                                           | 58                                            | 41                                            | 5                                             | 175                                           | 391                                           | 102                                           | 563                                           | 5                                             | 1,463                                         | 880                                           | \n",
       "| Anti-White                                    | 734                                           | 144                                           | 339                                           | 17                                            | 5                                             | 0                                             | 26                                            | 67                                            | 8                                             | 114                                           | 1                                             | 334                                           | 136                                           | \n",
       "\n",
       "\n"
      ],
      "text/plain": [
       "  V1                       V2              V3                   \n",
       "1 Bias motivation          Total\\noffenses Known offender's race\n",
       "2                                          White                \n",
       "3 Total                    6,885           2,761                \n",
       "4 Single-Bias Incidents    6,837           2,744                \n",
       "5 Race/Ethnicity/Ancestry: 4,029           1,833                \n",
       "6 Anti-White               734             144                  \n",
       "  V4                          V5                                 V6   \n",
       "1                                                                     \n",
       "2 Black or\\nAfrican\\nAmerican American\\nIndian or\\nAlaska Native Asian\n",
       "3 1,129                       65                                 60   \n",
       "4 1,126                       63                                 60   \n",
       "5 646                         58                                 41   \n",
       "6 339                         17                                 5    \n",
       "  V7                                            V8                        \n",
       "1                                                                         \n",
       "2 Native\\nHawaiian\\nor Other\\nPacific\\nIslander Group\\nof\\nmultiple\\nraces\n",
       "3 7                                             304                       \n",
       "4 7                                             304                       \n",
       "5 5                                             175                       \n",
       "6 0                                             26                        \n",
       "  V9            V10                         V11                      \n",
       "1               Known offender's ethnicity1                          \n",
       "2 Unknown\\nrace Hispanic\\nor\\nLatino        Not\\nHispanic\\nor\\nLatino\n",
       "3 842           182                         875                      \n",
       "4 840           182                         866                      \n",
       "5 391           102                         563                      \n",
       "6 67            8                           114                      \n",
       "  V12                             V13                V14              \n",
       "1                                                    Unknown\\noffender\n",
       "2 Group of\\nmultiple\\nethnicities Unknown\\nethnicity                  \n",
       "3 27                              2,158              1,717            \n",
       "4 27                              2,151              1,693            \n",
       "5 5                               1,463              880              \n",
       "6 1                               334                136              "
      ]
     },
     "metadata": {},
     "output_type": "display_data"
    }
   ],
   "source": [
    "df.1 <- read.csv('./table_5_offenses_known_offenders_race_and_ethnicity_by_bias_motivation_2015.csv', \n",
    "                 skip = 4, header=FALSE, stringsAsFactors = TRUE, dec = '.')\n",
    "head(df.1)\n",
    "df.1 <- head(df.1 , -2)"
   ]
  },
  {
   "cell_type": "code",
   "execution_count": 680,
   "metadata": {
    "scrolled": false
   },
   "outputs": [
    {
     "name": "stderr",
     "output_type": "stream",
     "text": [
      "Warning message in convert(V1):\n",
      "\"в результате преобразования созданы NA\"Warning message in convert(V2):\n",
      "\"в результате преобразования созданы NA\"Warning message in convert(V3):\n",
      "\"в результате преобразования созданы NA\"Warning message in convert(V4):\n",
      "\"в результате преобразования созданы NA\"Warning message in convert(V5):\n",
      "\"в результате преобразования созданы NA\"Warning message in convert(V6):\n",
      "\"в результате преобразования созданы NA\"Warning message in convert(V7):\n",
      "\"в результате преобразования созданы NA\"Warning message in convert(V8):\n",
      "\"в результате преобразования созданы NA\"Warning message in convert(V9):\n",
      "\"в результате преобразования созданы NA\"Warning message in convert(V10):\n",
      "\"в результате преобразования созданы NA\"Warning message in convert(V11):\n",
      "\"в результате преобразования созданы NA\"Warning message in convert(V12):\n",
      "\"в результате преобразования созданы NA\"Warning message in convert(V13):\n",
      "\"в результате преобразования созданы NA\"Warning message in convert(V14):\n",
      "\"в результате преобразования созданы NA\""
     ]
    },
    {
     "data": {
      "text/html": [
       "<table>\n",
       "<thead><tr><th scope=col>bias.motivation</th><th scope=col>Total offenses</th><th scope=col>White</th><th scope=col>Black or African American</th><th scope=col>American Indian or Alaska Native</th><th scope=col>Asian</th><th scope=col>Native Hawaiian or Other Pacific Islander</th><th scope=col>Group of multiple races</th><th scope=col>Unknown race</th><th scope=col>Hispanic or Latino</th><th scope=col>Not Hispanic or Latino</th><th scope=col>Group of multiple ethnicities</th><th scope=col>Unknown ethnicity</th><th scope=col>Unknown offender</th></tr></thead>\n",
       "<tbody>\n",
       "\t<tr><td>Total                                </td><td>6885                                 </td><td>2761                                 </td><td>1129                                 </td><td>65                                   </td><td>60                                   </td><td>7                                    </td><td>304                                  </td><td>842                                  </td><td>182                                  </td><td>875                                  </td><td>27                                   </td><td>2158                                 </td><td>1717                                 </td></tr>\n",
       "\t<tr><td>Single-Bias Incidents                </td><td>6837                                 </td><td>2744                                 </td><td>1126                                 </td><td>63                                   </td><td>60                                   </td><td>7                                    </td><td>304                                  </td><td>840                                  </td><td>182                                  </td><td>866                                  </td><td>27                                   </td><td>2151                                 </td><td>1693                                 </td></tr>\n",
       "\t<tr><td>Race/Ethnicity/Ancestry:             </td><td>4029                                 </td><td>1833                                 </td><td> 646                                 </td><td>58                                   </td><td>41                                   </td><td>5                                    </td><td>175                                  </td><td>391                                  </td><td>102                                  </td><td>563                                  </td><td> 5                                   </td><td>1463                                 </td><td> 880                                 </td></tr>\n",
       "\t<tr><td>Anti-White                           </td><td> 734                                 </td><td> 144                                 </td><td> 339                                 </td><td>17                                   </td><td> 5                                   </td><td>0                                    </td><td> 26                                  </td><td> 67                                  </td><td>  8                                  </td><td>114                                  </td><td> 1                                   </td><td> 334                                 </td><td> 136                                 </td></tr>\n",
       "\t<tr><td>Anti-Black or African American       </td><td>2125                                 </td><td>1227                                 </td><td>  72                                 </td><td>23                                   </td><td>22                                   </td><td>0                                    </td><td> 97                                  </td><td>202                                  </td><td> 69                                  </td><td>259                                  </td><td> 4                                   </td><td> 756                                 </td><td> 482                                 </td></tr>\n",
       "\t<tr><td>Anti-American Indian or Alaska Native</td><td> 137                                 </td><td>  37                                 </td><td>  33                                 </td><td>11                                   </td><td> 1                                   </td><td>0                                    </td><td>  1                                  </td><td>  9                                  </td><td>  1                                  </td><td>  3                                  </td><td> 0                                   </td><td>  79                                 </td><td>  45                                 </td></tr>\n",
       "</tbody>\n",
       "</table>\n"
      ],
      "text/latex": [
       "\\begin{tabular}{r|llllllllllllll}\n",
       " bias.motivation & Total offenses & White & Black or African American & American Indian or Alaska Native & Asian & Native Hawaiian or Other Pacific Islander & Group of multiple races & Unknown race & Hispanic or Latino & Not Hispanic or Latino & Group of multiple ethnicities & Unknown ethnicity & Unknown offender\\\\\n",
       "\\hline\n",
       "\t Total                                 & 6885                                  & 2761                                  & 1129                                  & 65                                    & 60                                    & 7                                     & 304                                   & 842                                   & 182                                   & 875                                   & 27                                    & 2158                                  & 1717                                 \\\\\n",
       "\t Single-Bias Incidents                 & 6837                                  & 2744                                  & 1126                                  & 63                                    & 60                                    & 7                                     & 304                                   & 840                                   & 182                                   & 866                                   & 27                                    & 2151                                  & 1693                                 \\\\\n",
       "\t Race/Ethnicity/Ancestry:              & 4029                                  & 1833                                  &  646                                  & 58                                    & 41                                    & 5                                     & 175                                   & 391                                   & 102                                   & 563                                   &  5                                    & 1463                                  &  880                                 \\\\\n",
       "\t Anti-White                            &  734                                  &  144                                  &  339                                  & 17                                    &  5                                    & 0                                     &  26                                   &  67                                   &   8                                   & 114                                   &  1                                    &  334                                  &  136                                 \\\\\n",
       "\t Anti-Black or African American        & 2125                                  & 1227                                  &   72                                  & 23                                    & 22                                    & 0                                     &  97                                   & 202                                   &  69                                   & 259                                   &  4                                    &  756                                  &  482                                 \\\\\n",
       "\t Anti-American Indian or Alaska Native &  137                                  &   37                                  &   33                                  & 11                                    &  1                                    & 0                                     &   1                                   &   9                                   &   1                                   &   3                                   &  0                                    &   79                                  &   45                                 \\\\\n",
       "\\end{tabular}\n"
      ],
      "text/markdown": [
       "\n",
       "bias.motivation | Total offenses | White | Black or African American | American Indian or Alaska Native | Asian | Native Hawaiian or Other Pacific Islander | Group of multiple races | Unknown race | Hispanic or Latino | Not Hispanic or Latino | Group of multiple ethnicities | Unknown ethnicity | Unknown offender | \n",
       "|---|---|---|---|---|---|\n",
       "| Total                                 | 6885                                  | 2761                                  | 1129                                  | 65                                    | 60                                    | 7                                     | 304                                   | 842                                   | 182                                   | 875                                   | 27                                    | 2158                                  | 1717                                  | \n",
       "| Single-Bias Incidents                 | 6837                                  | 2744                                  | 1126                                  | 63                                    | 60                                    | 7                                     | 304                                   | 840                                   | 182                                   | 866                                   | 27                                    | 2151                                  | 1693                                  | \n",
       "| Race/Ethnicity/Ancestry:              | 4029                                  | 1833                                  |  646                                  | 58                                    | 41                                    | 5                                     | 175                                   | 391                                   | 102                                   | 563                                   |  5                                    | 1463                                  |  880                                  | \n",
       "| Anti-White                            |  734                                  |  144                                  |  339                                  | 17                                    |  5                                    | 0                                     |  26                                   |  67                                   |   8                                   | 114                                   |  1                                    |  334                                  |  136                                  | \n",
       "| Anti-Black or African American        | 2125                                  | 1227                                  |   72                                  | 23                                    | 22                                    | 0                                     |  97                                   | 202                                   |  69                                   | 259                                   |  4                                    |  756                                  |  482                                  | \n",
       "| Anti-American Indian or Alaska Native |  137                                  |   37                                  |   33                                  | 11                                    |  1                                    | 0                                     |   1                                   |   9                                   |   1                                   |   3                                   |  0                                    |   79                                  |   45                                  | \n",
       "\n",
       "\n"
      ],
      "text/plain": [
       "  bias.motivation                       Total offenses White\n",
       "1 Total                                 6885           2761 \n",
       "2 Single-Bias Incidents                 6837           2744 \n",
       "3 Race/Ethnicity/Ancestry:              4029           1833 \n",
       "4 Anti-White                             734            144 \n",
       "5 Anti-Black or African American        2125           1227 \n",
       "6 Anti-American Indian or Alaska Native  137             37 \n",
       "  Black or African American American Indian or Alaska Native Asian\n",
       "1 1129                      65                               60   \n",
       "2 1126                      63                               60   \n",
       "3  646                      58                               41   \n",
       "4  339                      17                                5   \n",
       "5   72                      23                               22   \n",
       "6   33                      11                                1   \n",
       "  Native Hawaiian or Other Pacific Islander Group of multiple races\n",
       "1 7                                         304                    \n",
       "2 7                                         304                    \n",
       "3 5                                         175                    \n",
       "4 0                                          26                    \n",
       "5 0                                          97                    \n",
       "6 0                                           1                    \n",
       "  Unknown race Hispanic or Latino Not Hispanic or Latino\n",
       "1 842          182                875                   \n",
       "2 840          182                866                   \n",
       "3 391          102                563                   \n",
       "4  67            8                114                   \n",
       "5 202           69                259                   \n",
       "6   9            1                  3                   \n",
       "  Group of multiple ethnicities Unknown ethnicity Unknown offender\n",
       "1 27                            2158              1717            \n",
       "2 27                            2151              1693            \n",
       "3  5                            1463               880            \n",
       "4  1                             334               136            \n",
       "5  4                             756               482            \n",
       "6  0                              79                45            "
      ]
     },
     "metadata": {},
     "output_type": "display_data"
    }
   ],
   "source": [
    "rownames <- tail(df.1, -2) %>% select(V1)\n",
    "colnames <- c(\"bias.motivation\", \"Total offenses\", \"White\", \"Black or African American\",\n",
    "              \"American Indian or Alaska Native\", \"Asian\", \n",
    "              \"Native Hawaiian or Other Pacific Islander\", \"Group of multiple races\",\n",
    "              \"Unknown race\", \"Hispanic or Latino\", \"Not Hispanic or Latino\", \"Group of multiple ethnicities\",\n",
    "              \"Unknown ethnicity\", \"Unknown offender\")\n",
    "\n",
    "tidy_df <- tail(df.1, -2)  %>% mutate_if(is.factor, convert) %>% mutate(V1 = rownames[, 1])\n",
    "colnames(tidy_df) <- colnames\n",
    "head(tidy_df)"
   ]
  },
  {
   "cell_type": "code",
   "execution_count": 673,
   "metadata": {},
   "outputs": [
    {
     "data": {
      "text/html": [
       "<table>\n",
       "<thead><tr><th scope=col>bias.motivation</th><th scope=col>White</th><th scope=col>Black or African American</th><th scope=col>American Indian or Alaska Native</th><th scope=col>Asian</th><th scope=col>Native Hawaiian or Other Pacific Islander</th><th scope=col>Group of multiple races</th><th scope=col>Unknown race</th><th scope=col>Hispanic or Latino</th></tr></thead>\n",
       "<tbody>\n",
       "\t<tr><td>Race/Ethnicity/Ancestry:</td><td>1833                    </td><td>646                     </td><td>58                      </td><td>41                      </td><td>5                       </td><td>175                     </td><td>391                     </td><td>102                     </td></tr>\n",
       "\t<tr><td>Religion:               </td><td> 346                    </td><td> 89                     </td><td> 1                      </td><td> 7                      </td><td>2                       </td><td> 28                     </td><td>316                     </td><td>  8                     </td></tr>\n",
       "\t<tr><td>Sexual Orientation:     </td><td> 481                    </td><td>332                     </td><td> 3                      </td><td>10                      </td><td>0                       </td><td> 83                     </td><td>109                     </td><td> 58                     </td></tr>\n",
       "\t<tr><td>Disability:             </td><td>  38                    </td><td> 15                     </td><td> 1                      </td><td> 1                      </td><td>0                       </td><td>  8                     </td><td>  9                     </td><td>  1                     </td></tr>\n",
       "\t<tr><td>Gender:                 </td><td>  12                    </td><td>  6                     </td><td> 0                      </td><td> 0                      </td><td>0                       </td><td>  0                     </td><td>  4                     </td><td>  5                     </td></tr>\n",
       "\t<tr><td>Gender Identity:        </td><td>  34                    </td><td> 38                     </td><td> 0                      </td><td> 1                      </td><td>0                       </td><td> 10                     </td><td> 11                     </td><td>  8                     </td></tr>\n",
       "</tbody>\n",
       "</table>\n"
      ],
      "text/latex": [
       "\\begin{tabular}{r|lllllllll}\n",
       " bias.motivation & White & Black or African American & American Indian or Alaska Native & Asian & Native Hawaiian or Other Pacific Islander & Group of multiple races & Unknown race & Hispanic or Latino\\\\\n",
       "\\hline\n",
       "\t Race/Ethnicity/Ancestry: & 1833                     & 646                      & 58                       & 41                       & 5                        & 175                      & 391                      & 102                     \\\\\n",
       "\t Religion:                &  346                     &  89                      &  1                       &  7                       & 2                        &  28                      & 316                      &   8                     \\\\\n",
       "\t Sexual Orientation:      &  481                     & 332                      &  3                       & 10                       & 0                        &  83                      & 109                      &  58                     \\\\\n",
       "\t Disability:              &   38                     &  15                      &  1                       &  1                       & 0                        &   8                      &   9                      &   1                     \\\\\n",
       "\t Gender:                  &   12                     &   6                      &  0                       &  0                       & 0                        &   0                      &   4                      &   5                     \\\\\n",
       "\t Gender Identity:         &   34                     &  38                      &  0                       &  1                       & 0                        &  10                      &  11                      &   8                     \\\\\n",
       "\\end{tabular}\n"
      ],
      "text/markdown": [
       "\n",
       "bias.motivation | White | Black or African American | American Indian or Alaska Native | Asian | Native Hawaiian or Other Pacific Islander | Group of multiple races | Unknown race | Hispanic or Latino | \n",
       "|---|---|---|---|---|---|\n",
       "| Race/Ethnicity/Ancestry: | 1833                     | 646                      | 58                       | 41                       | 5                        | 175                      | 391                      | 102                      | \n",
       "| Religion:                |  346                     |  89                      |  1                       |  7                       | 2                        |  28                      | 316                      |   8                      | \n",
       "| Sexual Orientation:      |  481                     | 332                      |  3                       | 10                       | 0                        |  83                      | 109                      |  58                      | \n",
       "| Disability:              |   38                     |  15                      |  1                       |  1                       | 0                        |   8                      |   9                      |   1                      | \n",
       "| Gender:                  |   12                     |   6                      |  0                       |  0                       | 0                        |   0                      |   4                      |   5                      | \n",
       "| Gender Identity:         |   34                     |  38                      |  0                       |  1                       | 0                        |  10                      |  11                      |   8                      | \n",
       "\n",
       "\n"
      ],
      "text/plain": [
       "  bias.motivation          White Black or African American\n",
       "1 Race/Ethnicity/Ancestry: 1833  646                      \n",
       "2 Religion:                 346   89                      \n",
       "3 Sexual Orientation:       481  332                      \n",
       "4 Disability:                38   15                      \n",
       "5 Gender:                    12    6                      \n",
       "6 Gender Identity:           34   38                      \n",
       "  American Indian or Alaska Native Asian\n",
       "1 58                               41   \n",
       "2  1                                7   \n",
       "3  3                               10   \n",
       "4  1                                1   \n",
       "5  0                                0   \n",
       "6  0                                1   \n",
       "  Native Hawaiian or Other Pacific Islander Group of multiple races\n",
       "1 5                                         175                    \n",
       "2 2                                          28                    \n",
       "3 0                                          83                    \n",
       "4 0                                           8                    \n",
       "5 0                                           0                    \n",
       "6 0                                          10                    \n",
       "  Unknown race Hispanic or Latino\n",
       "1 391          102               \n",
       "2 316            8               \n",
       "3 109           58               \n",
       "4   9            1               \n",
       "5   4            5               \n",
       "6  11            8               "
      ]
     },
     "metadata": {},
     "output_type": "display_data"
    },
    {
     "data": {
      "text/html": [
       "<table>\n",
       "<thead><tr><th scope=col>bias.motivation</th><th scope=col>value</th><th scope=col>race</th></tr></thead>\n",
       "<tbody>\n",
       "\t<tr><td>Race/Ethnicity/Ancestry</td><td>1833                   </td><td>White                  </td></tr>\n",
       "\t<tr><td>Religion               </td><td> 346                   </td><td>White                  </td></tr>\n",
       "\t<tr><td>Sexual Orientation     </td><td> 481                   </td><td>White                  </td></tr>\n",
       "\t<tr><td>Disability             </td><td>  38                   </td><td>White                  </td></tr>\n",
       "\t<tr><td>Gender                 </td><td>  12                   </td><td>White                  </td></tr>\n",
       "\t<tr><td>Gender Identity        </td><td>  34                   </td><td>White                  </td></tr>\n",
       "</tbody>\n",
       "</table>\n"
      ],
      "text/latex": [
       "\\begin{tabular}{r|lll}\n",
       " bias.motivation & value & race\\\\\n",
       "\\hline\n",
       "\t Race/Ethnicity/Ancestry & 1833                    & White                  \\\\\n",
       "\t Religion                &  346                    & White                  \\\\\n",
       "\t Sexual Orientation      &  481                    & White                  \\\\\n",
       "\t Disability              &   38                    & White                  \\\\\n",
       "\t Gender                  &   12                    & White                  \\\\\n",
       "\t Gender Identity         &   34                    & White                  \\\\\n",
       "\\end{tabular}\n"
      ],
      "text/markdown": [
       "\n",
       "bias.motivation | value | race | \n",
       "|---|---|---|---|---|---|\n",
       "| Race/Ethnicity/Ancestry | 1833                    | White                   | \n",
       "| Religion                |  346                    | White                   | \n",
       "| Sexual Orientation      |  481                    | White                   | \n",
       "| Disability              |   38                    | White                   | \n",
       "| Gender                  |   12                    | White                   | \n",
       "| Gender Identity         |   34                    | White                   | \n",
       "\n",
       "\n"
      ],
      "text/plain": [
       "  bias.motivation         value race \n",
       "1 Race/Ethnicity/Ancestry 1833  White\n",
       "2 Religion                 346  White\n",
       "3 Sexual Orientation       481  White\n",
       "4 Disability                38  White\n",
       "5 Gender                    12  White\n",
       "6 Gender Identity           34  White"
      ]
     },
     "metadata": {},
     "output_type": "display_data"
    }
   ],
   "source": [
    "races <- tidy_df %>% select(-c(\"Total offenses\", \"Unknown offender\")) %>% select(-c(10, 11, 12)) %>%\n",
    "filter(bias.motivation == \"Race/Ethnicity/Ancestry:\" | bias.motivation == \"Religion:\" |\n",
    "      bias.motivation == \"Sexual Orientation:\" | bias.motivation == \"Disability:\" |\n",
    "      bias.motivation == \"Gender:\" | bias.motivation == \"Gender Identity:\")\n",
    "\n",
    "head(races)\n",
    "races <- data.frame(races[1], stack(races[2:ncol(races)]))\n",
    "colnames(races)[2:3] <- c('value', 'race')\n",
    "races <- races %>% mutate_at(vars(bias.motivation), funs(stringr::str_replace_all(., \":\", \"\")))\n",
    "head(races)"
   ]
  },
  {
   "cell_type": "code",
   "execution_count": 674,
   "metadata": {
    "scrolled": false
   },
   "outputs": [
    {
     "data": {
      "text/html": [
       "<table>\n",
       "<thead><tr><th scope=col>Location</th><th scope=col>White</th><th scope=col>Black or African American</th><th scope=col>Hispanic</th><th scope=col>Asian</th><th scope=col>American Indian or Alaska Native</th><th scope=col>Native Hawaiian or Other Pacific Islander</th><th scope=col>Group of multiple races</th><th scope=col>Total</th></tr></thead>\n",
       "<tbody>\n",
       "\t<tr><td>United States</td><td>192593600    </td><td>37923800     </td><td>55241300     </td><td>16755300     </td><td>1986900      </td><td>466400       </td><td>7810600      </td><td>312777900    </td></tr>\n",
       "\t<tr><td>Alabama      </td><td>  3131400    </td><td> 1251500     </td><td>  188000     </td><td>55300        </td><td>16300        </td><td>N/A          </td><td>  86500      </td><td>  4730100    </td></tr>\n",
       "\t<tr><td>Alaska       </td><td>   435400    </td><td>   22900     </td><td>   47600     </td><td>49000        </td><td>98700        </td><td>2800         </td><td>  51000      </td><td>   707500    </td></tr>\n",
       "\t<tr><td>Arizona      </td><td>  3714900    </td><td>  264200     </td><td> 2045900     </td><td>207300       </td><td>270800       </td><td>8900         </td><td> 143100      </td><td>  6655100    </td></tr>\n",
       "\t<tr><td>Arkansas     </td><td>  2106000    </td><td>  446400     </td><td>  204300     </td><td>39000        </td><td>18000        </td><td>6100         </td><td>  62600      </td><td>  2882300    </td></tr>\n",
       "\t<tr><td>California   </td><td> 14503600    </td><td> 2084000     </td><td>14903200     </td><td>5405400      </td><td>130000       </td><td>138000       </td><td>1161000      </td><td> 38325100    </td></tr>\n",
       "</tbody>\n",
       "</table>\n"
      ],
      "text/latex": [
       "\\begin{tabular}{r|lllllllll}\n",
       " Location & White & Black or African American & Hispanic & Asian & American Indian or Alaska Native & Native Hawaiian or Other Pacific Islander & Group of multiple races & Total\\\\\n",
       "\\hline\n",
       "\t United States & 192593600     & 37923800      & 55241300      & 16755300      & 1986900       & 466400        & 7810600       & 312777900    \\\\\n",
       "\t Alabama       &   3131400     &  1251500      &   188000      & 55300         & 16300         & N/A           &   86500       &   4730100    \\\\\n",
       "\t Alaska        &    435400     &    22900      &    47600      & 49000         & 98700         & 2800          &   51000       &    707500    \\\\\n",
       "\t Arizona       &   3714900     &   264200      &  2045900      & 207300        & 270800        & 8900          &  143100       &   6655100    \\\\\n",
       "\t Arkansas      &   2106000     &   446400      &   204300      & 39000         & 18000         & 6100          &   62600       &   2882300    \\\\\n",
       "\t California    &  14503600     &  2084000      & 14903200      & 5405400       & 130000        & 138000        & 1161000       &  38325100    \\\\\n",
       "\\end{tabular}\n"
      ],
      "text/markdown": [
       "\n",
       "Location | White | Black or African American | Hispanic | Asian | American Indian or Alaska Native | Native Hawaiian or Other Pacific Islander | Group of multiple races | Total | \n",
       "|---|---|---|---|---|---|\n",
       "| United States | 192593600     | 37923800      | 55241300      | 16755300      | 1986900       | 466400        | 7810600       | 312777900     | \n",
       "| Alabama       |   3131400     |  1251500      |   188000      | 55300         | 16300         | N/A           |   86500       |   4730100     | \n",
       "| Alaska        |    435400     |    22900      |    47600      | 49000         | 98700         | 2800          |   51000       |    707500     | \n",
       "| Arizona       |   3714900     |   264200      |  2045900      | 207300        | 270800        | 8900          |  143100       |   6655100     | \n",
       "| Arkansas      |   2106000     |   446400      |   204300      | 39000         | 18000         | 6100          |   62600       |   2882300     | \n",
       "| California    |  14503600     |  2084000      | 14903200      | 5405400       | 130000        | 138000        | 1161000       |  38325100     | \n",
       "\n",
       "\n"
      ],
      "text/plain": [
       "  Location      White     Black or African American Hispanic Asian   \n",
       "1 United States 192593600 37923800                  55241300 16755300\n",
       "2 Alabama         3131400  1251500                    188000 55300   \n",
       "3 Alaska           435400    22900                     47600 49000   \n",
       "4 Arizona         3714900   264200                   2045900 207300  \n",
       "5 Arkansas        2106000   446400                    204300 39000   \n",
       "6 California     14503600  2084000                  14903200 5405400 \n",
       "  American Indian or Alaska Native Native Hawaiian or Other Pacific Islander\n",
       "1 1986900                          466400                                   \n",
       "2 16300                            N/A                                      \n",
       "3 98700                            2800                                     \n",
       "4 270800                           8900                                     \n",
       "5 18000                            6100                                     \n",
       "6 130000                           138000                                   \n",
       "  Group of multiple races Total    \n",
       "1 7810600                 312777900\n",
       "2   86500                   4730100\n",
       "3   51000                    707500\n",
       "4  143100                   6655100\n",
       "5   62600                   2882300\n",
       "6 1161000                  38325100"
      ]
     },
     "metadata": {},
     "output_type": "display_data"
    },
    {
     "data": {
      "text/html": [
       "<table>\n",
       "<thead><tr><th scope=col>White</th><th scope=col>Black or African American</th><th scope=col>Hispanic</th><th scope=col>Asian</th><th scope=col>American Indian or Alaska Native</th><th scope=col>Native Hawaiian or Other Pacific Islander</th><th scope=col>Group of multiple races</th><th scope=col>Total</th></tr></thead>\n",
       "<tbody>\n",
       "\t<tr><td>192593600</td><td>37923800 </td><td>55241300 </td><td>16755300 </td><td>1986900  </td><td>466400   </td><td>7810600  </td><td>312777900</td></tr>\n",
       "</tbody>\n",
       "</table>\n"
      ],
      "text/latex": [
       "\\begin{tabular}{r|llllllll}\n",
       " White & Black or African American & Hispanic & Asian & American Indian or Alaska Native & Native Hawaiian or Other Pacific Islander & Group of multiple races & Total\\\\\n",
       "\\hline\n",
       "\t 192593600 & 37923800  & 55241300  & 16755300  & 1986900   & 466400    & 7810600   & 312777900\\\\\n",
       "\\end{tabular}\n"
      ],
      "text/markdown": [
       "\n",
       "White | Black or African American | Hispanic | Asian | American Indian or Alaska Native | Native Hawaiian or Other Pacific Islander | Group of multiple races | Total | \n",
       "|---|\n",
       "| 192593600 | 37923800  | 55241300  | 16755300  | 1986900   | 466400    | 7810600   | 312777900 | \n",
       "\n",
       "\n"
      ],
      "text/plain": [
       "  White     Black or African American Hispanic Asian   \n",
       "1 192593600 37923800                  55241300 16755300\n",
       "  American Indian or Alaska Native Native Hawaiian or Other Pacific Islander\n",
       "1 1986900                          466400                                   \n",
       "  Group of multiple races Total    \n",
       "1 7810600                 312777900"
      ]
     },
     "metadata": {},
     "output_type": "display_data"
    }
   ],
   "source": [
    "population_df <- read.csv('./population_data.csv', header = T, skip = 2) %>% head(n = -10) %>% \n",
    "select(-Footnotes) %>% rename('Black or African American' = Black, \n",
    "                              'American Indian or Alaska Native' = American.Indian.Alaska.Native,\n",
    "                              'Native Hawaiian or Other Pacific Islander' = Native.Hawaiian.Other.Pacific.Islander,\n",
    "                              'Group of multiple races' = Two.Or.More.Races) %>%\n",
    "as.data.frame()\n",
    "head(population_df)\n",
    "races_counts <- population_df[1, -1]\n",
    "races_counts"
   ]
  },
  {
   "cell_type": "code",
   "execution_count": 681,
   "metadata": {},
   "outputs": [
    {
     "data": {
      "text/html": [
       "<table>\n",
       "<thead><tr><th scope=col>bm</th><th scope=col>s</th><th scope=col>i</th></tr></thead>\n",
       "<tbody>\n",
       "\t<tr><td>Race/Ethnicity/Ancestry</td><td>6.623195e+00           </td><td>1                      </td></tr>\n",
       "\t<tr><td>Sexual Orientation     </td><td>9.271484e-01           </td><td>2                      </td></tr>\n",
       "\t<tr><td>Religion               </td><td>7.577677e-01           </td><td>3                      </td></tr>\n",
       "\t<tr><td>Disability             </td><td>1.295563e-01           </td><td>4                      </td></tr>\n",
       "\t<tr><td>Gender Identity        </td><td>7.692568e-02           </td><td>5                      </td></tr>\n",
       "\t<tr><td>Gender                 </td><td>3.110314e-07           </td><td>6                      </td></tr>\n",
       "</tbody>\n",
       "</table>\n"
      ],
      "text/latex": [
       "\\begin{tabular}{r|lll}\n",
       " bm & s & i\\\\\n",
       "\\hline\n",
       "\t Race/Ethnicity/Ancestry & 6.623195e+00            & 1                      \\\\\n",
       "\t Sexual Orientation      & 9.271484e-01            & 2                      \\\\\n",
       "\t Religion                & 7.577677e-01            & 3                      \\\\\n",
       "\t Disability              & 1.295563e-01            & 4                      \\\\\n",
       "\t Gender Identity         & 7.692568e-02            & 5                      \\\\\n",
       "\t Gender                  & 3.110314e-07            & 6                      \\\\\n",
       "\\end{tabular}\n"
      ],
      "text/markdown": [
       "\n",
       "bm | s | i | \n",
       "|---|---|---|---|---|---|\n",
       "| Race/Ethnicity/Ancestry | 6.623195e+00            | 1                       | \n",
       "| Sexual Orientation      | 9.271484e-01            | 2                       | \n",
       "| Religion                | 7.577677e-01            | 3                       | \n",
       "| Disability              | 1.295563e-01            | 4                       | \n",
       "| Gender Identity         | 7.692568e-02            | 5                       | \n",
       "| Gender                  | 3.110314e-07            | 6                       | \n",
       "\n",
       "\n"
      ],
      "text/plain": [
       "  bm                      s            i\n",
       "1 Race/Ethnicity/Ancestry 6.623195e+00 1\n",
       "2 Sexual Orientation      9.271484e-01 2\n",
       "3 Religion                7.577677e-01 3\n",
       "4 Disability              1.295563e-01 4\n",
       "5 Gender Identity         7.692568e-02 5\n",
       "6 Gender                  3.110314e-07 6"
      ]
     },
     "metadata": {},
     "output_type": "display_data"
    },
    {
     "data": {
      "text/html": [
       "<table>\n",
       "<thead><tr><th scope=col>bias.motivation</th><th scope=col>value</th><th scope=col>race</th><th scope=col>norm_value</th></tr></thead>\n",
       "<tbody>\n",
       "\t<tr><td>Race/Ethnicity/Ancestry</td><td>1833                   </td><td>White                  </td><td>9.517450e-06           </td></tr>\n",
       "\t<tr><td>Religion               </td><td> 346                   </td><td>White                  </td><td>1.796529e-06           </td></tr>\n",
       "\t<tr><td>Sexual Orientation     </td><td> 481                   </td><td>White                  </td><td>2.497487e-06           </td></tr>\n",
       "\t<tr><td>Disability             </td><td>  38                   </td><td>White                  </td><td>1.973067e-07           </td></tr>\n",
       "\t<tr><td>Gender                 </td><td>  12                   </td><td>White                  </td><td>6.230737e-08           </td></tr>\n",
       "\t<tr><td>Gender Identity        </td><td>  34                   </td><td>White                  </td><td>1.765375e-07           </td></tr>\n",
       "</tbody>\n",
       "</table>\n"
      ],
      "text/latex": [
       "\\begin{tabular}{r|llll}\n",
       " bias.motivation & value & race & norm\\_value\\\\\n",
       "\\hline\n",
       "\t Race/Ethnicity/Ancestry & 1833                    & White                   & 9.517450e-06           \\\\\n",
       "\t Religion                &  346                    & White                   & 1.796529e-06           \\\\\n",
       "\t Sexual Orientation      &  481                    & White                   & 2.497487e-06           \\\\\n",
       "\t Disability              &   38                    & White                   & 1.973067e-07           \\\\\n",
       "\t Gender                  &   12                    & White                   & 6.230737e-08           \\\\\n",
       "\t Gender Identity         &   34                    & White                   & 1.765375e-07           \\\\\n",
       "\\end{tabular}\n"
      ],
      "text/markdown": [
       "\n",
       "bias.motivation | value | race | norm_value | \n",
       "|---|---|---|---|---|---|\n",
       "| Race/Ethnicity/Ancestry | 1833                    | White                   | 9.517450e-06            | \n",
       "| Religion                |  346                    | White                   | 1.796529e-06            | \n",
       "| Sexual Orientation      |  481                    | White                   | 2.497487e-06            | \n",
       "| Disability              |   38                    | White                   | 1.973067e-07            | \n",
       "| Gender                  |   12                    | White                   | 6.230737e-08            | \n",
       "| Gender Identity         |   34                    | White                   | 1.765375e-07            | \n",
       "\n",
       "\n"
      ],
      "text/plain": [
       "  bias.motivation         value race  norm_value  \n",
       "1 Race/Ethnicity/Ancestry 1833  White 9.517450e-06\n",
       "2 Religion                 346  White 1.796529e-06\n",
       "3 Sexual Orientation       481  White 2.497487e-06\n",
       "4 Disability                38  White 1.973067e-07\n",
       "5 Gender                    12  White 6.230737e-08\n",
       "6 Gender Identity           34  White 1.765375e-07"
      ]
     },
     "metadata": {},
     "output_type": "display_data"
    }
   ],
   "source": [
    "norm_w <- races %>% filter(race=='White') %>% mutate(norm_value = value / races_counts[['White']])\n",
    "\n",
    "norm_b <- races %>% filter(race=='Black or African American') %>%\n",
    "mutate(norm_value = value / as.numeric(races_counts[['Black or African American']]))\n",
    "\n",
    "norm_i <- races %>% filter(race=='American Indian or Alaska Native') %>%\n",
    "mutate(norm_value = value / as.numeric(races_counts[['American Indian or Alaska Native']]))\n",
    "\n",
    "norm_n <- races %>% filter(race=='Native Hawaiian or Other Pacific Islander') %>%\n",
    "mutate(norm_value = value / as.numeric(races_counts[['Native Hawaiian or Other Pacific Islander']]))\n",
    "\n",
    "norm_m <- races %>% filter(race=='Group of multiple races') %>%\n",
    "mutate(norm_value = value / as.numeric(races_counts[['Group of multiple races']]))\n",
    "\n",
    "norm_a <- races %>% filter(race=='Asian') %>%\n",
    "mutate(norm_value = value / as.numeric(races_counts[['Asian']]))\n",
    "\n",
    "norm_h <- races %>% filter(race=='Hispanic or Latino') %>%\n",
    "mutate(norm_value = value / as.numeric(races_counts[['Hispanic']]))\n",
    "\n",
    "races <- rbind(norm_w, norm_b, norm_i, norm_n, norm_m, norm_a, norm_h)\n",
    "sums <- races %>% group_by(bias.motivation) %>% summarize(sum(norm_value)) %>%\n",
    "rename(s = 'sum(norm_value)', bm = 'bias.motivation') %>%\n",
    "arrange(desc(s))\n",
    "sums <- sums %>% mutate(i = row_number())\n",
    "sums\n",
    "\n",
    "head(races)"
   ]
  },
  {
   "cell_type": "code",
   "execution_count": 682,
   "metadata": {
    "scrolled": false
   },
   "outputs": [
    {
     "data": {},
     "metadata": {},
     "output_type": "display_data"
    },
    {
     "data": {
      "image/png": "[encoded data removed]",
      "text/plain": [
       "plot without title"
      ]
     },
     "metadata": {},
     "output_type": "display_data"
    }
   ],
   "source": [
    "# x = reorder(bias.motivation,\n",
    "#                              X = bias.motivation,\n",
    "#                              FUN = function(x){sums %>% mutate(i = row_number()) %>% \n",
    "#                                                filter(bm==x) %>% select(i) %>% as.numeric()})\n",
    "\n",
    "options(repr.plot.width = 16, repr.plot.height = 8.0)\n",
    "ggplot(races, aes(y = race, x = factor(bias.motivation, levels = sums$bm), \n",
    "                  color = norm_value, size = norm_value)) + \n",
    "geom_point() +\n",
    "scale_color_gradient2(low = '#deebf7', mid = '#9ecae1', high = '#3182bd', midpoint = mean(sums$s))+\n",
    "scale_size_continuous(range = c(15, 35)) +\n",
    "scale_x_discrete(expand = c(0.05, 0.05)) +\n",
    "scale_y_discrete(expand = c(0.035, 0.035)) +\n",
    "geom_text(aes(label = value), color = 'black', size = 4) +\n",
    "theme_minimal() +\n",
    "theme(axis.text = element_text(size = 15), \n",
    "      axis.title = element_blank(), \n",
    "      legend.position = \"none\",\n",
    "      panel.grid = element_blank(),\n",
    "      title = element_text(size = 20),\n",
    "      axis.text.x = element_text(angle = 0),\n",
    "     plot.caption = element_text(size = 13, vjust = -1.8)) + \n",
    "labs(title = \"Hate Crime, 2015\", subtitle = \"Offenses by race/bias motivation\", \n",
    "caption = \"*Circle sizes are normalized by a corresponding population size. Numbers of offenses are in absolute scale.\") "
   ]
  },
  {
   "cell_type": "code",
   "execution_count": 706,
   "metadata": {
    "scrolled": false
   },
   "outputs": [
    {
     "name": "stderr",
     "output_type": "stream",
     "text": [
      "Warning message in read.table(file = file, header = header, sep = sep, quote = quote, :\n",
      "\"incomplete final line found by readTableHeader on './table_10_incidents_bias_motivation_by_location_2015.csv'\""
     ]
    },
    {
     "data": {
      "text/html": [
       "<table>\n",
       "<thead><tr><th scope=col>V1</th><th scope=col>V2</th><th scope=col>V3</th><th scope=col>V4</th><th scope=col>V5</th><th scope=col>V6</th><th scope=col>V7</th><th scope=col>V8</th><th scope=col>V9</th><th scope=col>V10</th><th scope=col>V11</th></tr></thead>\n",
       "<tbody>\n",
       "\t<tr><td>                                  </td><td>                                  </td><td>Race/\n",
       "Ethnicity/\n",
       "Ancestry       </td><td>Religion                          </td><td>Sexual\n",
       "orientation               </td><td>Disability                        </td><td>Gender                            </td><td>Gender\n",
       "Identity                  </td><td>NA                                </td><td>NA                                </td><td>NA                                </td></tr>\n",
       "\t<tr><td>Total                             </td><td>5,850                             </td><td>3,310                             </td><td>1,244                             </td><td>1,053                             </td><td>74                                </td><td>23                                </td><td>114                               </td><td>32                                </td><td>NA                                </td><td>NA                                </td></tr>\n",
       "\t<tr><td>Abandoned/condemned structure     </td><td>5                                 </td><td>2                                 </td><td>3                                 </td><td>0                                 </td><td>0                                 </td><td>0                                 </td><td>0                                 </td><td> 0                                </td><td>NA                                </td><td>NA                                </td></tr>\n",
       "\t<tr><td>Air/bus/train terminal            </td><td>82                                </td><td>57                                </td><td>9                                 </td><td>15                                </td><td>0                                 </td><td>0                                 </td><td>0                                 </td><td> 1                                </td><td>NA                                </td><td>NA                                </td></tr>\n",
       "\t<tr><td>Amusement park                    </td><td>1                                 </td><td>1                                 </td><td>0                                 </td><td>0                                 </td><td>0                                 </td><td>0                                 </td><td>0                                 </td><td> 0                                </td><td>NA                                </td><td>NA                                </td></tr>\n",
       "\t<tr><td>Arena/stadium/fairgrounds/coliseum</td><td>7                                 </td><td>4                                 </td><td>1                                 </td><td>1                                 </td><td>0                                 </td><td>0                                 </td><td>1                                 </td><td> 0                                </td><td>NA                                </td><td>NA                                </td></tr>\n",
       "\t<tr><td>ATM separate from bank            </td><td>1                                 </td><td>1                                 </td><td>0                                 </td><td>0                                 </td><td>0                                 </td><td>0                                 </td><td>0                                 </td><td> 0                                </td><td>NA                                </td><td>NA                                </td></tr>\n",
       "\t<tr><td>Auto dealership new/used          </td><td>4                                 </td><td>1                                 </td><td>2                                 </td><td>1                                 </td><td>0                                 </td><td>0                                 </td><td>0                                 </td><td> 0                                </td><td>NA                                </td><td>NA                                </td></tr>\n",
       "\t<tr><td>Bank/savings and loan             </td><td>12                                </td><td>7                                 </td><td>1                                 </td><td>1                                 </td><td>0                                 </td><td>0                                 </td><td>2                                 </td><td> 1                                </td><td>NA                                </td><td>NA                                </td></tr>\n",
       "\t<tr><td>Bar/nightclub                     </td><td>99                                </td><td>55                                </td><td>9                                 </td><td>32                                </td><td>0                                 </td><td>0                                 </td><td>3                                 </td><td> 0                                </td><td>NA                                </td><td>NA                                </td></tr>\n",
       "</tbody>\n",
       "</table>\n"
      ],
      "text/latex": [
       "\\begin{tabular}{r|lllllllllll}\n",
       " V1 & V2 & V3 & V4 & V5 & V6 & V7 & V8 & V9 & V10 & V11\\\\\n",
       "\\hline\n",
       "\t                                    &                                    & Race/\n",
       "Ethnicity/\n",
       "Ancestry        & Religion                           & Sexual\n",
       "orientation                & Disability                         & Gender                             & Gender\n",
       "Identity                   & NA                                 & NA                                 & NA                                \\\\\n",
       "\t Total                              & 5,850                              & 3,310                              & 1,244                              & 1,053                              & 74                                 & 23                                 & 114                                & 32                                 & NA                                 & NA                                \\\\\n",
       "\t Abandoned/condemned structure      & 5                                  & 2                                  & 3                                  & 0                                  & 0                                  & 0                                  & 0                                  &  0                                 & NA                                 & NA                                \\\\\n",
       "\t Air/bus/train terminal             & 82                                 & 57                                 & 9                                  & 15                                 & 0                                  & 0                                  & 0                                  &  1                                 & NA                                 & NA                                \\\\\n",
       "\t Amusement park                     & 1                                  & 1                                  & 0                                  & 0                                  & 0                                  & 0                                  & 0                                  &  0                                 & NA                                 & NA                                \\\\\n",
       "\t Arena/stadium/fairgrounds/coliseum & 7                                  & 4                                  & 1                                  & 1                                  & 0                                  & 0                                  & 1                                  &  0                                 & NA                                 & NA                                \\\\\n",
       "\t ATM separate from bank             & 1                                  & 1                                  & 0                                  & 0                                  & 0                                  & 0                                  & 0                                  &  0                                 & NA                                 & NA                                \\\\\n",
       "\t Auto dealership new/used           & 4                                  & 1                                  & 2                                  & 1                                  & 0                                  & 0                                  & 0                                  &  0                                 & NA                                 & NA                                \\\\\n",
       "\t Bank/savings and loan              & 12                                 & 7                                  & 1                                  & 1                                  & 0                                  & 0                                  & 2                                  &  1                                 & NA                                 & NA                                \\\\\n",
       "\t Bar/nightclub                      & 99                                 & 55                                 & 9                                  & 32                                 & 0                                  & 0                                  & 3                                  &  0                                 & NA                                 & NA                                \\\\\n",
       "\\end{tabular}\n"
      ],
      "text/markdown": [
       "\n",
       "V1 | V2 | V3 | V4 | V5 | V6 | V7 | V8 | V9 | V10 | V11 | \n",
       "|---|---|---|---|---|---|---|---|---|---|\n",
       "|                                    |                                    | Race/\n",
       "Ethnicity/\n",
       "Ancestry        | Religion                           | Sexual\n",
       "orientation                | Disability                         | Gender                             | Gender\n",
       "Identity                   | NA                                 | NA                                 | NA                                 | \n",
       "| Total                              | 5,850                              | 3,310                              | 1,244                              | 1,053                              | 74                                 | 23                                 | 114                                | 32                                 | NA                                 | NA                                 | \n",
       "| Abandoned/condemned structure      | 5                                  | 2                                  | 3                                  | 0                                  | 0                                  | 0                                  | 0                                  |  0                                 | NA                                 | NA                                 | \n",
       "| Air/bus/train terminal             | 82                                 | 57                                 | 9                                  | 15                                 | 0                                  | 0                                  | 0                                  |  1                                 | NA                                 | NA                                 | \n",
       "| Amusement park                     | 1                                  | 1                                  | 0                                  | 0                                  | 0                                  | 0                                  | 0                                  |  0                                 | NA                                 | NA                                 | \n",
       "| Arena/stadium/fairgrounds/coliseum | 7                                  | 4                                  | 1                                  | 1                                  | 0                                  | 0                                  | 1                                  |  0                                 | NA                                 | NA                                 | \n",
       "| ATM separate from bank             | 1                                  | 1                                  | 0                                  | 0                                  | 0                                  | 0                                  | 0                                  |  0                                 | NA                                 | NA                                 | \n",
       "| Auto dealership new/used           | 4                                  | 1                                  | 2                                  | 1                                  | 0                                  | 0                                  | 0                                  |  0                                 | NA                                 | NA                                 | \n",
       "| Bank/savings and loan              | 12                                 | 7                                  | 1                                  | 1                                  | 0                                  | 0                                  | 2                                  |  1                                 | NA                                 | NA                                 | \n",
       "| Bar/nightclub                      | 99                                 | 55                                 | 9                                  | 32                                 | 0                                  | 0                                  | 3                                  |  0                                 | NA                                 | NA                                 | \n",
       "\n",
       "\n"
      ],
      "text/plain": [
       "   V1                                 V2    V3                         \n",
       "1                                           Race/\\nEthnicity/\\nAncestry\n",
       "2  Total                              5,850 3,310                      \n",
       "3  Abandoned/condemned structure      5     2                          \n",
       "4  Air/bus/train terminal             82    57                         \n",
       "5  Amusement park                     1     1                          \n",
       "6  Arena/stadium/fairgrounds/coliseum 7     4                          \n",
       "7  ATM separate from bank             1     1                          \n",
       "8  Auto dealership new/used           4     1                          \n",
       "9  Bank/savings and loan              12    7                          \n",
       "10 Bar/nightclub                      99    55                         \n",
       "   V4       V5                  V6         V7     V8               V9 V10 V11\n",
       "1  Religion Sexual\\norientation Disability Gender Gender\\nIdentity NA NA  NA \n",
       "2  1,244    1,053               74         23     114              32 NA  NA \n",
       "3  3        0                   0          0      0                 0 NA  NA \n",
       "4  9        15                  0          0      0                 1 NA  NA \n",
       "5  0        0                   0          0      0                 0 NA  NA \n",
       "6  1        1                   0          0      1                 0 NA  NA \n",
       "7  0        0                   0          0      0                 0 NA  NA \n",
       "8  2        1                   0          0      0                 0 NA  NA \n",
       "9  1        1                   0          0      2                 1 NA  NA \n",
       "10 9        32                  0          0      3                 0 NA  NA "
      ]
     },
     "metadata": {},
     "output_type": "display_data"
    }
   ],
   "source": [
    "df.2 <- read.csv('./table_10_incidents_bias_motivation_by_location_2015.csv',\n",
    "                 skip = 7, header=FALSE, stringsAsFactors = TRUE, dec = '.')\n",
    "df.2 <- head(df.2 , -2)\n",
    "head(df.2, 10)"
   ]
  },
  {
   "cell_type": "code",
   "execution_count": 707,
   "metadata": {
    "scrolled": false
   },
   "outputs": [
    {
     "name": "stderr",
     "output_type": "stream",
     "text": [
      "Warning message in convert(V1):\n",
      "\"в результате преобразования созданы NA\"Warning message in convert(V3):\n",
      "\"в результате преобразования созданы NA\"Warning message in convert(V4):\n",
      "\"в результате преобразования созданы NA\"Warning message in convert(V5):\n",
      "\"в результате преобразования созданы NA\"Warning message in convert(V6):\n",
      "\"в результате преобразования созданы NA\"Warning message in convert(V7):\n",
      "\"в результате преобразования созданы NA\"Warning message in convert(V8):\n",
      "\"в результате преобразования созданы NA\""
     ]
    },
    {
     "data": {
      "text/html": [
       "<table>\n",
       "<thead><tr><th scope=col>Location</th><th scope=col>total.incidents</th><th scope=col>Race/ Ethnicity/ Ancestry</th><th scope=col>Religion</th><th scope=col>Sexual orientation</th><th scope=col>Disability</th><th scope=col>Gender</th><th scope=col>Gender Identity</th><th scope=col>Multiple-bias incidents</th></tr></thead>\n",
       "<tbody>\n",
       "\t<tr><td>Total                             </td><td>5850                              </td><td>3310                              </td><td>1244                              </td><td>1053                              </td><td>74                                </td><td>23                                </td><td>114                               </td><td>32                                </td></tr>\n",
       "\t<tr><td>Abandoned/condemned structure     </td><td>   5                              </td><td>   2                              </td><td>   3                              </td><td>   0                              </td><td> 0                                </td><td> 0                                </td><td>  0                               </td><td> 0                                </td></tr>\n",
       "\t<tr><td>Air/bus/train terminal            </td><td>  82                              </td><td>  57                              </td><td>   9                              </td><td>  15                              </td><td> 0                                </td><td> 0                                </td><td>  0                               </td><td> 1                                </td></tr>\n",
       "\t<tr><td>Amusement park                    </td><td>   1                              </td><td>   1                              </td><td>   0                              </td><td>   0                              </td><td> 0                                </td><td> 0                                </td><td>  0                               </td><td> 0                                </td></tr>\n",
       "\t<tr><td>Arena/stadium/fairgrounds/coliseum</td><td>   7                              </td><td>   4                              </td><td>   1                              </td><td>   1                              </td><td> 0                                </td><td> 0                                </td><td>  1                               </td><td> 0                                </td></tr>\n",
       "\t<tr><td>ATM separate from bank            </td><td>   1                              </td><td>   1                              </td><td>   0                              </td><td>   0                              </td><td> 0                                </td><td> 0                                </td><td>  0                               </td><td> 0                                </td></tr>\n",
       "</tbody>\n",
       "</table>\n"
      ],
      "text/latex": [
       "\\begin{tabular}{r|lllllllll}\n",
       " Location & total.incidents & Race/ Ethnicity/ Ancestry & Religion & Sexual orientation & Disability & Gender & Gender Identity & Multiple-bias incidents\\\\\n",
       "\\hline\n",
       "\t Total                              & 5850                               & 3310                               & 1244                               & 1053                               & 74                                 & 23                                 & 114                                & 32                                \\\\\n",
       "\t Abandoned/condemned structure      &    5                               &    2                               &    3                               &    0                               &  0                                 &  0                                 &   0                                &  0                                \\\\\n",
       "\t Air/bus/train terminal             &   82                               &   57                               &    9                               &   15                               &  0                                 &  0                                 &   0                                &  1                                \\\\\n",
       "\t Amusement park                     &    1                               &    1                               &    0                               &    0                               &  0                                 &  0                                 &   0                                &  0                                \\\\\n",
       "\t Arena/stadium/fairgrounds/coliseum &    7                               &    4                               &    1                               &    1                               &  0                                 &  0                                 &   1                                &  0                                \\\\\n",
       "\t ATM separate from bank             &    1                               &    1                               &    0                               &    0                               &  0                                 &  0                                 &   0                                &  0                                \\\\\n",
       "\\end{tabular}\n"
      ],
      "text/markdown": [
       "\n",
       "Location | total.incidents | Race/ Ethnicity/ Ancestry | Religion | Sexual orientation | Disability | Gender | Gender Identity | Multiple-bias incidents | \n",
       "|---|---|---|---|---|---|\n",
       "| Total                              | 5850                               | 3310                               | 1244                               | 1053                               | 74                                 | 23                                 | 114                                | 32                                 | \n",
       "| Abandoned/condemned structure      |    5                               |    2                               |    3                               |    0                               |  0                                 |  0                                 |   0                                |  0                                 | \n",
       "| Air/bus/train terminal             |   82                               |   57                               |    9                               |   15                               |  0                                 |  0                                 |   0                                |  1                                 | \n",
       "| Amusement park                     |    1                               |    1                               |    0                               |    0                               |  0                                 |  0                                 |   0                                |  0                                 | \n",
       "| Arena/stadium/fairgrounds/coliseum |    7                               |    4                               |    1                               |    1                               |  0                                 |  0                                 |   1                                |  0                                 | \n",
       "| ATM separate from bank             |    1                               |    1                               |    0                               |    0                               |  0                                 |  0                                 |   0                                |  0                                 | \n",
       "\n",
       "\n"
      ],
      "text/plain": [
       "  Location                           total.incidents Race/ Ethnicity/ Ancestry\n",
       "1 Total                              5850            3310                     \n",
       "2 Abandoned/condemned structure         5               2                     \n",
       "3 Air/bus/train terminal               82              57                     \n",
       "4 Amusement park                        1               1                     \n",
       "5 Arena/stadium/fairgrounds/coliseum    7               4                     \n",
       "6 ATM separate from bank                1               1                     \n",
       "  Religion Sexual orientation Disability Gender Gender Identity\n",
       "1 1244     1053               74         23     114            \n",
       "2    3        0                0          0       0            \n",
       "3    9       15                0          0       0            \n",
       "4    0        0                0          0       0            \n",
       "5    1        1                0          0       1            \n",
       "6    0        0                0          0       0            \n",
       "  Multiple-bias incidents\n",
       "1 32                     \n",
       "2  0                     \n",
       "3  1                     \n",
       "4  0                     \n",
       "5  0                     \n",
       "6  0                     "
      ]
     },
     "metadata": {},
     "output_type": "display_data"
    }
   ],
   "source": [
    "rownames <- tail(df.2, -1) %>% select(V1)\n",
    "colnames <- c(\"Location\", \"total.incidents\", \"Race/ Ethnicity/ Ancestry\", \"Religion\", \"Sexual orientation\",\n",
    "              \"Disability\", \"Gender\", \n",
    "              \"Gender Identity\", \"Multiple-bias incidents\")\n",
    "\n",
    "tidy_df2 <- tail(df.2, -1)  %>% mutate_if(is.factor, convert) %>% mutate(V1 = rownames[, 1]) %>% select(-c(10, 11))\n",
    "colnames(tidy_df2) <- colnames\n",
    "head(tidy_df2)"
   ]
  },
  {
   "cell_type": "code",
   "execution_count": 741,
   "metadata": {
    "scrolled": false
   },
   "outputs": [
    {
     "data": {},
     "metadata": {},
     "output_type": "display_data"
    },
    {
     "data": {
      "image/png": "[encoded data removed]",
      "text/plain": [
       "plot without title"
      ]
     },
     "metadata": {},
     "output_type": "display_data"
    }
   ],
   "source": [
    "places <- tidy_df2 %>% select(-c(total.incidents))\n",
    "\n",
    "places <- data.frame(places[1], stack(places[2:ncol(places)]))\n",
    "colnames(places)[2:3] <- c('value', 'bias')\n",
    "\n",
    "\n",
    "top5 <- places %>% filter(Location != \"Total\") %>% \n",
    "group_by(bias) %>% \n",
    "arrange(desc(value), .by_group = TRUE) %>% \n",
    "top_n(5, wt = value) %>%\n",
    "ungroup()\n",
    "\n",
    "ggplot(top5, aes(x=reorder(Location, X = value, FUN = function(x) sum(x)), \n",
    "                           y=value, \n",
    "                           fill=reorder(bias, \n",
    "                                        X = value,\n",
    "                                        FUN = function(x) sum(x)))) +\n",
    "geom_bar(stat = \"identity\") + \n",
    "scale_fill_manual(values = c('#8dd3c7','#ffffb3','#bebada','#fb8072','#80b1d3','#fdb462','#b3de69')) +\n",
    "coord_flip() +\n",
    "guides(fill = guide_legend(reverse = TRUE)) +\n",
    "theme_minimal() +\n",
    "theme(axis.text = element_text(size = 15),\n",
    "      legend.text = element_text(size = 13),\n",
    "      axis.title.y = element_blank(),\n",
    "      axis.title.x = element_text(size = 15, vjust = -1),\n",
    "      panel.grid.minor.y = element_blank(),\n",
    "      panel.grid.minor.x = element_blank(),\n",
    "      legend.title = element_blank(),\n",
    "      title = element_text(size = 20),\n",
    "      plot.caption = element_text(size = 11, hjust = 1.6)) +\n",
    "labs(title = \"Incidents, 2015\", subtitle = \"By location and bias motivation\",  \n",
    "     caption = \"*This location has been retained for agencies that did not switch to new reporting system.\",\n",
    "     y = \"Number of incidents\")"
   ]
  },
  {
   "cell_type": "code",
   "execution_count": null,
   "metadata": {},
   "outputs": [],
   "source": []
  },
  {
   "cell_type": "code",
   "execution_count": null,
   "metadata": {},
   "outputs": [],
   "source": []
  }
 ],
 "metadata": {
  "kernelspec": {
   "display_name": "R",
   "language": "R",
   "name": "ir"
  },
  "language_info": {
   "codemirror_mode": "r",
   "file_extension": ".r",
   "mimetype": "text/x-r-source",
   "name": "R",
   "pygments_lexer": "r",
   "version": "3.5.1"
  }
 },
 "nbformat": 4,
 "nbformat_minor": 2
}
